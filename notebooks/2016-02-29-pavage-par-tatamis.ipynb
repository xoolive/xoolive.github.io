{
 "cells": [
  {
   "cell_type": "markdown",
   "metadata": {},
   "source": [
    "## Pavage par tatamis\n",
    "\n",
    "Lorsque l'on loue un appartement ou une maison au Japon, la superficie des pièces n'est pas déterminée en mètres carrés mais en tatamis. Les tatamis sont des tapis de paille riz séchée (*goza*) montés sur des supports en bois, que l'on utilise traditionnellement pour paver le sol des pièces des maisons japonaises.\n",
    "\n",
    "Une petite chambre d'étudiants fera ainsi 6 tatamis, c'est à dire qu'il est possible de placer 6 tatamis dans la pièce à vivre (sans compter l'entrée, le coin cuisine, les toilettes et la salle de bain). Un tatami peut être modélisé par un rectangle 2 × 1 ; la dimension des tatamis n'est pas définie de manière standard; les tatamis dans la région de Tôkyô (le Kantô) sont plus petits (88 × 176 cm) que les tatamis de la région de Kyôto (91 × 182 cm).\n",
    "\n",
    "On propose ici de modéliser le problème avec `facile`, une bibliothèque de programmation par contraintes en Python, et d'analyser le nombre de dispositions possibles pour des tailles données."
   ]
  },
  {
   "cell_type": "code",
   "execution_count": 1,
   "metadata": {
    "collapsed": true
   },
   "outputs": [],
   "source": [
    "import facile"
   ]
  },
  {
   "cell_type": "markdown",
   "metadata": {},
   "source": [
    "En fonction de la disposition des pièces, il y a plusieurs manières de recouvrir l'espace au moyen de tatamis. Ce problème se modélise bien sous forme de problème de programmation par contraintes:\n",
    "\n",
    " - on modélise la position des tatamis par la position en abscisse et en ordonnée du coin le plus en bas à gauche ;\n",
    " - on modélise l'orientation du tatami par une variable supplémentaire ;\n",
    " - deux tatamis ne peuvent pas se chevaucher ;\n",
    " - tout l'espace est recouvert de tatamis (contrainte induite par la précédente et par le nombre de tatamis disponibles) ;\n",
    " \n",
    "Enfin, une contrainte doit être rajoutée pour répondre aux standards d'esthétique japonaise: il est interdit d'avoir quatre tatamis qui se rejoignent en un point."
   ]
  },
  {
   "cell_type": "code",
   "execution_count": 2,
   "metadata": {
    "collapsed": false
   },
   "outputs": [],
   "source": [
    "def tatami(xmax, ymax):\n",
    "    \n",
    "    # On ne travaille pas avec des demi-tatamis\n",
    "    assert (xmax * ymax) & 1 == 0\n",
    "    n = xmax * ymax // 2\n",
    "\n",
    "    # Définitions des variables, x, y et direction\n",
    "    # d = 1 => horizontal, d = 0 => vertical\n",
    "    x = [facile.variable(0, xmax-1) for i in range(n)]\n",
    "    y = [facile.variable(0, ymax-1) for i in range(n)]\n",
    "    d = [facile.variable(0, 1) for i in range(n)]\n",
    "\n",
    "    # Les tatamis ne sortent pas du cadre\n",
    "    for i in range(n):\n",
    "        facile.constraint(x[i] + 1 + d[i] <= xmax)\n",
    "        facile.constraint(y[i] + 2 - d[i] <= ymax)\n",
    "        \n",
    "    # Les tatamis ne se chevauchent pas\n",
    "    for i in range(n-1):\n",
    "        for j in range(i+1, n):\n",
    "            left = x[i] + 1 + d[i] <= x[j]\n",
    "            right = x[i] >= x[j] + 1 + d[j]\n",
    "            above = y[i] + 2 - d[i] <= y[j]\n",
    "            below = y[i] >= y[j] + 2 - d[j]\n",
    "            facile.constraint(left | right | above | below)\n",
    "\n",
    "    # Impossible d'avoir 4 tatamis qui se rejoignent en un point\n",
    "    for i in range(n-1):\n",
    "        for j in range(i+1, n):        \n",
    "            left = x[i] + 1 + d[i] != x[j]\n",
    "            below = y[i] + 2 - d[i] != y[j]\n",
    "            facile.constraint(left | below)\n",
    "            \n",
    "    # On casse les symétries\n",
    "    for i in range(n-1):\n",
    "        facile.constraint(x[i] <= x[i+1])\n",
    "        facile.constraint((x[i] != x[i+1]) | (y[i] < y[i+1]))\n",
    "            \n",
    "    return facile.solve_all(x+y+d)"
   ]
  },
  {
   "cell_type": "markdown",
   "metadata": {},
   "source": [
    "Pour garder un temps de résolution raisonnable, on choisit d'ajouter des contraintes pour casser un certain nombre de symétries. En effet, sachant qu'à partir d'une solution, il est possible d'intervertir deux tatamis pour trouver une autre solution en tout point semblable, on choisit d'ajouter une contrainte afin d'ordonner les tatamis en fonction d'une relation d'ordre en abscisses et en ordonnées.\n",
    "\n",
    "On propose alors d'afficher les différentes solutions de la manière suivante."
   ]
  },
  {
   "cell_type": "code",
   "execution_count": 3,
   "metadata": {
    "collapsed": true
   },
   "outputs": [],
   "source": [
    "%matplotlib inline\n",
    "import matplotlib.pyplot as plt\n",
    "\n",
    "def fill_square(ax, x, y, xs, ys):\n",
    "    ax.fill([x, x, x+xs, x+xs], [y, y+ys, y+ys, y])\n",
    "\n",
    "def plot_sol(ax, x, y, d, xmax, ymax):\n",
    "    for (xi, yi, di) in zip(x, y, d):\n",
    "        fill_square(ax, xi, yi, 1+di, 2-di)\n",
    "\n",
    "    ax.set_xlim((0, xmax))\n",
    "    ax.set_ylim((0, ymax))\n",
    "    ax.set_aspect(1)\n",
    "    ax.set_xticks(range(xmax + 1))\n",
    "    ax.set_yticks(range(ymax + 1))\n",
    "    \n",
    "def plot_tatami(sol, xmax, ymax):\n",
    "    n = xmax * ymax // 2\n",
    "    fig, ax = plt.subplots(ncols=len(sol), nrows=1,\n",
    "                           figsize=(4*len(sol), 4))\n",
    "\n",
    "    for i in range(len(sol)):\n",
    "        x = sol[i][0:n]\n",
    "        y = sol[i][n:2*n]\n",
    "        d = sol[i][2*n:]\n",
    "        plot_sol(ax[i], x, y, d, xmax, ymax)"
   ]
  },
  {
   "cell_type": "markdown",
   "metadata": {},
   "source": [
    "Pour une pièce à six tatamis, on propose ici quatre solutions, mais il y a deux solutions qui sont images d'une première par symétries sur l'axe des abscisses ou sur l'axe des ordonnées. Il n'existe alors que deux solutions différentes possibles."
   ]
  },
  {
   "cell_type": "code",
   "execution_count": 4,
   "metadata": {
    "collapsed": false
   },
   "outputs": [
    {
     "data": {
      "image/png": "[encoded data removed]",
      "text/plain": [
       "<matplotlib.figure.Figure at 0x42b5cb0>"
      ]
     },
     "metadata": {},
     "output_type": "display_data"
    }
   ],
   "source": [
    "sol = tatami(4, 3)\n",
    "plot_tatami(sol, 4, 3)"
   ]
  },
  {
   "cell_type": "markdown",
   "metadata": {},
   "source": [
    "Pour une pièce à huit tatamis, les deux solutions sont images l'une de l'autre modulo une rotation de 90 degrés. Il n'y a en réalité qu'une disposition possible."
   ]
  },
  {
   "cell_type": "code",
   "execution_count": 5,
   "metadata": {
    "collapsed": false
   },
   "outputs": [
    {
     "data": {
      "image/png": "[encoded data removed]",
      "text/plain": [
       "<matplotlib.figure.Figure at 0x6086410>"
      ]
     },
     "metadata": {},
     "output_type": "display_data"
    }
   ],
   "source": [
    "sol = tatami(4, 4)\n",
    "plot_tatami(sol, 4, 4)"
   ]
  },
  {
   "cell_type": "markdown",
   "metadata": {},
   "source": [
    "Pour une pièce à dix tatamis, la première et la troisième solution sont images l'une de l'autre par une symétrie sur l'axe des ordonnées. On n'a alors que deux solutions possibles."
   ]
  },
  {
   "cell_type": "code",
   "execution_count": 6,
   "metadata": {
    "collapsed": false
   },
   "outputs": [
    {
     "data": {
      "image/png": "[encoded data removed]",
      "text/plain": [
       "<matplotlib.figure.Figure at 0x619a190>"
      ]
     },
     "metadata": {},
     "output_type": "display_data"
    }
   ],
   "source": [
    "sol = tatami(5, 4)\n",
    "plot_tatami(sol, 5, 4)"
   ]
  },
  {
   "cell_type": "markdown",
   "metadata": {},
   "source": [
    "Sur une pièce à douze tatamis également, la première et la troisième solution sont images l'une de l'autre par une symétrie sur l'axe des ordonnées. On n'a alors que deux solutions possibles."
   ]
  },
  {
   "cell_type": "code",
   "execution_count": 7,
   "metadata": {
    "collapsed": false
   },
   "outputs": [
    {
     "data": {
      "image/png": "[encoded data removed]",
      "text/plain": [
       "<matplotlib.figure.Figure at 0x6452030>"
      ]
     },
     "metadata": {},
     "output_type": "display_data"
    }
   ],
   "source": [
    "sol = tatami(6, 4)\n",
    "plot_tatami(sol, 6, 4)"
   ]
  },
  {
   "cell_type": "markdown",
   "metadata": {},
   "source": [
    "Sur une pièce à quinze tatamis, on n'a plus qu'une seule position possible une fois enlevée la deuxième solution qui n'est que l'image de la première par une symétrie sur l'axe des abscisses."
   ]
  },
  {
   "cell_type": "code",
   "execution_count": 8,
   "metadata": {
    "collapsed": false
   },
   "outputs": [
    {
     "data": {
      "image/png": "[encoded data removed]",
      "text/plain": [
       "<matplotlib.figure.Figure at 0x61645f0>"
      ]
     },
     "metadata": {},
     "output_type": "display_data"
    }
   ],
   "source": [
    "sol = tatami(6, 5)\n",
    "plot_tatami(sol, 6, 5)"
   ]
  },
  {
   "cell_type": "markdown",
   "metadata": {
    "collapsed": true
   },
   "source": [
    "Sur les problèmes de programmation par contraintes, il est souvent possible de modifier la modélisation de notre problème pour casser certaines symétries mais il est souvent plus difficile de parvenir à détecter et à casser l'ensemble des symétries de notre problème.\n",
    "\n",
    "L'étude des symétries dans ces problèmes est néanmoins un véritable axe de recherche au sein de cette classe de problèmes."
   ]
  }
 ],
 "metadata": {
  "kernelspec": {
   "display_name": "Python 3",
   "language": "python",
   "name": "python3"
  },
  "language_info": {
   "codemirror_mode": {
    "name": "ipython",
    "version": 3
   },
   "file_extension": ".py",
   "mimetype": "text/x-python",
   "name": "python",
   "nbconvert_exporter": "python",
   "pygments_lexer": "ipython3",
   "version": "3.4.3"
  }
 },
 "nbformat": 4,
 "nbformat_minor": 0
}
